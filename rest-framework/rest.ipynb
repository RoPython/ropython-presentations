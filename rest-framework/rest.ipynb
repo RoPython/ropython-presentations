{
 "metadata": {
  "celltoolbar": "Slideshow",
  "name": "",
  "signature": "sha256:6dea6c08057b7c0873061065d869ddd4cf6a278b85cff480d30beebc7931a057"
 },
 "nbformat": 3,
 "nbformat_minor": 0,
 "worksheets": [
  {
   "cells": [
    {
     "cell_type": "code",
     "collapsed": false,
     "input": [
      "!py --version"
     ],
     "language": "python",
     "metadata": {
      "slideshow": {
       "slide_type": "slide"
      }
     },
     "outputs": [
      {
       "output_type": "stream",
       "stream": "stdout",
       "text": [
        "Python 3.4.0\n"
       ]
      }
     ],
     "prompt_number": 1
    },
    {
     "cell_type": "code",
     "collapsed": false,
     "input": [
      "!pip3 install django"
     ],
     "language": "python",
     "metadata": {
      "slideshow": {
       "slide_type": "slide"
      }
     },
     "outputs": [
      {
       "output_type": "stream",
       "stream": "stdout",
       "text": [
        "Requirement already satisfied (use --upgrade to upgrade): django in c:\\python34\\lib\\site-packages\n",
        "Cleaning up...\n"
       ]
      }
     ],
     "prompt_number": 2
    },
    {
     "cell_type": "code",
     "collapsed": false,
     "input": [
      "!pip install djangorestframework"
     ],
     "language": "python",
     "metadata": {
      "slideshow": {
       "slide_type": "slide"
      }
     },
     "outputs": [
      {
       "output_type": "stream",
       "stream": "stdout",
       "text": [
        "Requirement already satisfied (use --upgrade to upgrade): djangorestframework in c:\\python34\\lib\\site-packages\n",
        "Cleaning up...\n"
       ]
      }
     ],
     "prompt_number": 3
    },
    {
     "cell_type": "code",
     "collapsed": false,
     "input": [
      "%pwd"
     ],
     "language": "python",
     "metadata": {
      "slideshow": {
       "slide_type": "slide"
      }
     },
     "outputs": [
      {
       "metadata": {},
       "output_type": "pyout",
       "prompt_number": 4,
       "text": [
        "'D:\\\\ropython'"
       ]
      }
     ],
     "prompt_number": 4
    },
    {
     "cell_type": "code",
     "collapsed": false,
     "input": [
      "!django-admin startproject jukebox"
     ],
     "language": "python",
     "metadata": {
      "slideshow": {
       "slide_type": "slide"
      }
     },
     "outputs": [],
     "prompt_number": 5
    },
    {
     "cell_type": "code",
     "collapsed": false,
     "input": [
      "%pwd"
     ],
     "language": "python",
     "metadata": {
      "slideshow": {
       "slide_type": "slide"
      }
     },
     "outputs": [
      {
       "metadata": {},
       "output_type": "pyout",
       "prompt_number": 6,
       "text": [
        "'D:\\\\ropython'"
       ]
      }
     ],
     "prompt_number": 6
    },
    {
     "cell_type": "code",
     "collapsed": false,
     "input": [
      "%cd jukebox"
     ],
     "language": "python",
     "metadata": {
      "slideshow": {
       "slide_type": "slide"
      }
     },
     "outputs": [
      {
       "output_type": "stream",
       "stream": "stdout",
       "text": [
        "D:\\ropython\\jukebox\n"
       ]
      }
     ],
     "prompt_number": 7
    },
    {
     "cell_type": "code",
     "collapsed": false,
     "input": [
      "!dir"
     ],
     "language": "python",
     "metadata": {
      "slideshow": {
       "slide_type": "slide"
      }
     },
     "outputs": [
      {
       "output_type": "stream",
       "stream": "stdout",
       "text": [
        " Volume in drive D is New Volume\n",
        " Volume Serial Number is 6EB1-7398\n",
        "\n",
        " Directory of D:\\ropython\\jukebox\n",
        "\n",
        "05/31/2014  07:51 AM    <DIR>          .\n",
        "05/31/2014  07:51 AM    <DIR>          ..\n",
        "05/31/2014  07:51 AM    <DIR>          jukebox\n",
        "05/31/2014  07:51 AM               250 manage.py\n",
        "               1 File(s)            250 bytes\n",
        "               3 Dir(s)  10,195,976,192 bytes free\n"
       ]
      }
     ],
     "prompt_number": 8
    },
    {
     "cell_type": "code",
     "collapsed": false,
     "input": [
      "!dir jukebox"
     ],
     "language": "python",
     "metadata": {
      "slideshow": {
       "slide_type": "slide"
      }
     },
     "outputs": [
      {
       "output_type": "stream",
       "stream": "stdout",
       "text": [
        " Volume in drive D is New Volume\n",
        " Volume Serial Number is 6EB1-7398\n",
        "\n",
        " Directory of D:\\ropython\\jukebox\\jukebox\n",
        "\n",
        "05/31/2014  07:51 AM    <DIR>          .\n",
        "05/31/2014  07:51 AM    <DIR>          ..\n",
        "05/31/2014  07:51 AM             1,975 settings.py\n",
        "05/31/2014  07:51 AM               298 urls.py\n",
        "05/31/2014  07:51 AM               389 wsgi.py\n",
        "05/31/2014  07:51 AM                 0 __init__.py\n",
        "               4 File(s)          2,662 bytes\n",
        "               2 Dir(s)  10,195,976,192 bytes free\n"
       ]
      }
     ],
     "prompt_number": 9
    },
    {
     "cell_type": "code",
     "collapsed": false,
     "input": [
      "!manage.py startapp tracks\n",
      "!manage.py startapp auth"
     ],
     "language": "python",
     "metadata": {
      "slideshow": {
       "slide_type": "slide"
      }
     },
     "outputs": [],
     "prompt_number": 10
    },
    {
     "cell_type": "code",
     "collapsed": false,
     "input": [
      "!move auth jukebox\n",
      "!move tracks jukebox"
     ],
     "language": "python",
     "metadata": {
      "slideshow": {
       "slide_type": "slide"
      }
     },
     "outputs": [
      {
       "output_type": "stream",
       "stream": "stdout",
       "text": [
        "        1 dir(s) moved.\n"
       ]
      },
      {
       "output_type": "stream",
       "stream": "stdout",
       "text": [
        "        1 dir(s) moved.\n"
       ]
      }
     ],
     "prompt_number": 11
    },
    {
     "cell_type": "markdown",
     "metadata": {
      "slideshow": {
       "slide_type": "slide"
      }
     },
     "source": [
      "```python\n",
      "INSTALLED_APPS = (\n",
      "    'django.contrib.admin',\n",
      "    'django.contrib.auth',\n",
      "    'django.contrib.contenttypes',\n",
      "    'django.contrib.sessions',\n",
      "    'django.contrib.messages',\n",
      "    'django.contrib.staticfiles',\n",
      "\n",
      "    'jukebox.tracks',\n",
      "    'jukebox.auth',\n",
      ")\n",
      "\n",
      "DATABASES = {\n",
      "    'default': {\n",
      "        'ENGINE': 'django.db.backends.sqlite3',\n",
      "        'NAME': os.path.join(BASE_DIR, 'db.sqlite3'),\n",
      "    }\n",
      "}\n",
      "\n",
      "REST_FRAMEWORK = {\n",
      "    'DEFAULT_AUTHENTICATION_CLASSES': (\n",
      "        'jukebox.auth.auth.APITokenAuthentication',\n",
      "    ),\n",
      "    'DEFAULT_RENDERER_CLASSES': (\n",
      "        'jukebox.renderer.PrettyJSONRenderer',\n",
      "    ),\n",
      "}\n",
      "```"
     ]
    },
    {
     "cell_type": "code",
     "collapsed": false,
     "input": [
      "%%writefile jukebox/settings.py\n",
      "\n",
      "import os\n",
      "BASE_DIR = os.path.dirname(os.path.dirname(__file__))\n",
      "SECRET_KEY = 'qu*4)$2jz-9p3ra6_b%rgxe0(1p4=gqsfu($*cj-do*#vcg9n('\n",
      "DEBUG = True\n",
      "TEMPLATE_DEBUG = True\n",
      "ALLOWED_HOSTS = []\n",
      "INSTALLED_APPS = (\n",
      "    'django.contrib.admin',\n",
      "    'django.contrib.auth',\n",
      "    'django.contrib.contenttypes',\n",
      "    'django.contrib.sessions',\n",
      "    'django.contrib.messages',    \n",
      "\n",
      "    'jukebox.tracks',\n",
      "    'jukebox.auth',\n",
      ")\n",
      "ROOT_URLCONF = 'jukebox.urls'\n",
      "WSGI_APPLICATION = 'jukebox.wsgi.application'\n",
      "DATABASES = {\n",
      "    'default': {\n",
      "        'ENGINE': 'django.db.backends.sqlite3',\n",
      "        'NAME': os.path.join(BASE_DIR, 'db.sqlite3'),\n",
      "    }\n",
      "}\n",
      "REST_FRAMEWORK = {\n",
      "    'DEFAULT_AUTHENTICATION_CLASSES': (\n",
      "        'jukebox.auth.auth.APITokenAuthentication',\n",
      "    ),\n",
      "    'DEFAULT_RENDERER_CLASSES': (\n",
      "        'jukebox.renderer.PrettyJSONRenderer',\n",
      "    ),\n",
      "}"
     ],
     "language": "python",
     "metadata": {
      "slideshow": {
       "slide_type": "slide"
      }
     },
     "outputs": [
      {
       "output_type": "stream",
       "stream": "stdout",
       "text": [
        "Overwriting jukebox/settings.py\n"
       ]
      }
     ],
     "prompt_number": 12
    },
    {
     "cell_type": "code",
     "collapsed": false,
     "input": [
      "%%writefile jukebox/auth/models.py\n",
      "import uuid\n",
      "import hmac\n",
      "from hashlib import sha1\n",
      "from django.db import models\n",
      "from django.contrib.auth.models import User\n",
      "\n",
      "class AuthToken(models.Model):\n",
      "    key = models.CharField(max_length=40, primary_key=True)\n",
      "    host = models.CharField(max_length=120)\n",
      "    created = models.DateTimeField(auto_now_add=True)\n",
      "    user = models.ForeignKey(User, related_name=\"user\", null=True)\n",
      "\n",
      "    def save(self, *args, **kwargs):\n",
      "        if not self.key:\n",
      "            self.key = AuthToken.generate_key()\n",
      "        return super(AuthToken, self).save(*args, **kwargs)\n",
      "\n",
      "    @staticmethod\n",
      "    def generate_key():        \n",
      "        unique = uuid.uuid4()\n",
      "        return hmac.new(unique.bytes, digestmod=sha1).hexdigest()\n",
      "\n",
      "    def user_info(self):\n",
      "        return {\n",
      "          \"user_id\": self.user.id,\n",
      "          \"username\": self.user.username,\n",
      "        }"
     ],
     "language": "python",
     "metadata": {
      "slideshow": {
       "slide_type": "slide"
      }
     },
     "outputs": [
      {
       "output_type": "stream",
       "stream": "stdout",
       "text": [
        "Overwriting jukebox/auth/models.py\n"
       ]
      }
     ],
     "prompt_number": 13
    },
    {
     "cell_type": "code",
     "collapsed": false,
     "input": [
      "%%writefile jukebox/auth/serializer.py\n",
      "from rest_framework.serializers import ModelSerializer, Field\n",
      "from .models import AuthToken\n",
      "\n",
      "class TokenSerializer(ModelSerializer):\n",
      "    user = Field(source='user_info')    \n",
      "    class Meta:\n",
      "        model = AuthToken\n",
      "        lookup_field = \"key\"           "
     ],
     "language": "python",
     "metadata": {
      "slideshow": {
       "slide_type": "slide"
      }
     },
     "outputs": [
      {
       "output_type": "stream",
       "stream": "stdout",
       "text": [
        "Writing jukebox/auth/serializer.py\n"
       ]
      }
     ],
     "prompt_number": 14
    },
    {
     "cell_type": "code",
     "collapsed": false,
     "input": [
      "%%writefile jukebox/auth/views.py\n",
      "from rest_framework.response import Response\n",
      "from rest_framework import status\n",
      "from rest_framework import generics\n",
      "from rest_framework.permissions import AllowAny, IsAuthenticated\n",
      "from rest_framework.views import APIView\n",
      "from django.contrib.auth.models import User\n",
      "\n",
      "from .models import AuthToken\n",
      "from .serializer import TokenSerializer\n",
      "\n",
      "class AuthCreate(APIView):\n",
      "    permission_classes = (AllowAny, )\n",
      "\n",
      "    def post(self, request, *args, **kwargs):\n",
      "        if 'HTTP_X_REAL_IP' in request.META:\n",
      "            created_by_host = request.META['HTTP_X_REAL_IP']\n",
      "        else:\n",
      "            created_by_host = request.META['REMOTE_ADDR']\n",
      "        token_key = AuthToken.generate_key()\n",
      "        user, _ = User.objects.get_or_create(username=created_by_host)\n",
      "        token = AuthToken.objects.create(\n",
      "            host=created_by_host, user=user, key=token_key)\n",
      "        token.save()        \n",
      "        return Response(TokenSerializer(token).data,\n",
      "                        status=status.HTTP_201_CREATED)\n",
      "\n",
      "class AuthTokenList(generics.ListAPIView):\n",
      "    serializer_class = TokenSerializer\n",
      "    permission_classes = (IsAuthenticated, )\n",
      "    queryset = AuthToken.objects.all()\n",
      "\n",
      "    def get_queryset(self):\n",
      "        return AuthToken.objects.filter(user=self.request.user).order_by('-created')"
     ],
     "language": "python",
     "metadata": {
      "slideshow": {
       "slide_type": "slide"
      }
     },
     "outputs": [
      {
       "output_type": "stream",
       "stream": "stdout",
       "text": [
        "Overwriting jukebox/auth/views.py\n"
       ]
      }
     ],
     "prompt_number": 15
    },
    {
     "cell_type": "code",
     "collapsed": false,
     "input": [
      "!manage.py syncdb --noinput"
     ],
     "language": "python",
     "metadata": {
      "slideshow": {
       "slide_type": "slide"
      }
     },
     "outputs": [
      {
       "output_type": "stream",
       "stream": "stdout",
       "text": [
        "Creating tables ...\n",
        "Creating table django_admin_log\n",
        "Creating table auth_permission\n",
        "Creating table auth_group_permissions\n",
        "Creating table auth_group\n",
        "Creating table auth_user_groups\n",
        "Creating table auth_user_user_permissions\n",
        "Creating table auth_user\n",
        "Creating table auth_authtoken\n",
        "Creating table django_content_type\n",
        "Creating table django_session\n",
        "Installing custom SQL ...\n",
        "Installing indexes ...\n",
        "Installed 0 object(s) from 0 fixture(s)\n"
       ]
      }
     ],
     "prompt_number": 16
    },
    {
     "cell_type": "code",
     "collapsed": false,
     "input": [
      "%%writefile jukebox/urls.py\n",
      "from django.conf.urls import patterns, url\n",
      "from jukebox.auth.views import AuthCreate, AuthTokenList\n",
      "\n",
      "urlpatterns = patterns('',\n",
      "    url(r'^auth/$', AuthCreate.as_view(), name='auth'),\n",
      "    url(r'^tokens/$', AuthTokenList.as_view(), name='tokens'),\n",
      ")"
     ],
     "language": "python",
     "metadata": {
      "slideshow": {
       "slide_type": "slide"
      }
     },
     "outputs": [
      {
       "output_type": "stream",
       "stream": "stdout",
       "text": [
        "Overwriting jukebox/urls.py\n"
       ]
      }
     ],
     "prompt_number": 17
    },
    {
     "cell_type": "code",
     "collapsed": false,
     "input": [
      "%%writefile jukebox/renderer.py\n",
      "from rest_framework.renderers import JSONRenderer\n",
      "\n",
      "class PrettyJSONRenderer(JSONRenderer):\n",
      "    def render(self, data, accepted_media_type=None, renderer_context=None):\n",
      "        if renderer_context and 'indent' not in renderer_context:\n",
      "            renderer_context = {'indent': 4}\n",
      "        return super().render(data, \n",
      "                              accepted_media_type=accepted_media_type,\n",
      "                              renderer_context=renderer_context)"
     ],
     "language": "python",
     "metadata": {
      "slideshow": {
       "slide_type": "slide"
      }
     },
     "outputs": [
      {
       "output_type": "stream",
       "stream": "stdout",
       "text": [
        "Writing jukebox/renderer.py\n"
       ]
      }
     ],
     "prompt_number": 18
    },
    {
     "cell_type": "code",
     "collapsed": false,
     "input": [
      "%%writefile jukebox/auth/auth.py\n",
      "from django.http import Http404\n",
      "from rest_framework.authentication import BasicAuthentication\n",
      "from .models import AuthToken\n",
      "         \n",
      "class APITokenAuthentication(BasicAuthentication):\n",
      "    def authenticate(self, request):        \n",
      "        jukebox_token = request.META.get('HTTP_X_JUKEBOX_TOKEN')\n",
      "        if jukebox_token:\n",
      "            try:\n",
      "                token = AuthToken.objects.get(key=jukebox_token)\n",
      "            except AuthToken.DoesNotExist:\n",
      "                raise Http404('Unknown token')\n",
      "            return (token.user, token)\n",
      "        return (None, None)"
     ],
     "language": "python",
     "metadata": {
      "slideshow": {
       "slide_type": "slide"
      }
     },
     "outputs": [
      {
       "output_type": "stream",
       "stream": "stdout",
       "text": [
        "Writing jukebox/auth/auth.py\n"
       ]
      }
     ],
     "prompt_number": 19
    },
    {
     "cell_type": "heading",
     "level": 2,
     "metadata": {
      "slideshow": {
       "slide_type": "slide"
      }
     },
     "source": [
      "Timpul pentru un test!"
     ]
    },
    {
     "cell_type": "code",
     "collapsed": false,
     "input": [
      "import subprocess\n",
      "import sys\n",
      "import time\n",
      "popen = subprocess.Popen([sys.executable, \"manage.py\", \"runserver\"])\n",
      "time.sleep(3) # Ca s\u0103 aib\u0103 timp serverul s\u0103 porneasc\u0103"
     ],
     "language": "python",
     "metadata": {
      "slideshow": {
       "slide_type": "slide"
      }
     },
     "outputs": [],
     "prompt_number": 20
    },
    {
     "cell_type": "code",
     "collapsed": false,
     "input": [
      "!curl 127.0.0.1:8000/auth/"
     ],
     "language": "python",
     "metadata": {
      "slideshow": {
       "slide_type": "slide"
      }
     },
     "outputs": [
      {
       "output_type": "stream",
       "stream": "stdout",
       "text": [
        "{\n",
        "    \"detail\": \"Method 'GET' not allowed.\"\n",
        "}\n"
       ]
      },
      {
       "output_type": "stream",
       "stream": "stderr",
       "text": [
        "  % Total    % Received % Xferd  Average Speed   Time    Time     Time  Current\n",
        "                                 Dload  Upload   Total   Spent    Left  Speed\n",
        "\n",
        "  0     0    0     0    0     0      0      0 --:--:-- --:--:-- --:--:--     0\n",
        "  0     0    0     0    0     0      0      0 --:--:--  0:00:01 --:--:--     0\n",
        "100    45    0    45    0     0     34      0 --:--:--  0:00:01 --:--:--    34\n"
       ]
      }
     ],
     "prompt_number": 21
    },
    {
     "cell_type": "code",
     "collapsed": false,
     "input": [
      "!curl 127.0.0.1:8000/auth/ -X POST"
     ],
     "language": "python",
     "metadata": {
      "slideshow": {
       "slide_type": "slide"
      }
     },
     "outputs": [
      {
       "output_type": "stream",
       "stream": "stdout",
       "text": [
        "{\n",
        "    \"user\": {\n",
        "        \"user_id\": 1,\n",
        "        \"username\": \"127.0.0.1\"\n",
        "    },\n",
        "    \"key\": \"31d38692e3b8ce63e6feb2526e8b6e28ecd612f4\",\n",
        "    \"host\": \"127.0.0.1\",\n",
        "    \"created\": \"2014-05-31T07:51:27.463\"\n",
        "}\n"
       ]
      },
      {
       "output_type": "stream",
       "stream": "stderr",
       "text": [
        "  % Total    % Received % Xferd  Average Speed   Time    Time     Time  Current\n",
        "                                 Dload  Upload   Total   Spent    Left  Speed\n",
        "\n",
        "  0     0    0     0    0     0      0      0 --:--:-- --:--:-- --:--:--     0\n",
        "100   199    0   199    0     0   2518      0 --:--:-- --:--:-- --:--:--  2518\n",
        "100   199    0   199    0     0   2518      0 --:--:-- --:--:-- --:--:--  2518\n"
       ]
      }
     ],
     "prompt_number": 22
    },
    {
     "cell_type": "code",
     "collapsed": false,
     "input": [
      "popen.kill()\n",
      "popen.wait()"
     ],
     "language": "python",
     "metadata": {
      "slideshow": {
       "slide_type": "slide"
      }
     },
     "outputs": [
      {
       "metadata": {},
       "output_type": "pyout",
       "prompt_number": 36,
       "text": [
        "1"
       ]
      }
     ],
     "prompt_number": 36
    },
    {
     "cell_type": "code",
     "collapsed": false,
     "input": [
      "%%writefile jukebox/foobar.py\n",
      "from collections import defaultdict     \n",
      "import win32com.client\n",
      "import pythoncom\n",
      "\n",
      "FOOBAR_ID = \"Foobar2000.Application.0.7\"\n",
      "\n",
      "class Foobar:\n",
      "    @property\n",
      "    def instance(self):\n",
      "        try:\n",
      "             return self._instance\n",
      "        except AttributeError:\n",
      "             pythoncom.CoInitialize()\n",
      "             self._instance = win32com.client.Dispatch(FOOBAR_ID)\n",
      "             return self._instance\n",
      " \n",
      "    @property\n",
      "    def songs(self):\n",
      "         try:\n",
      "             return self._songs\n",
      "         except AttributeError:\n",
      "             self._songs = defaultdict(dict)\n",
      "             playlist = self.instance.Playlists.ActivePlaylist\n",
      "             for index, track in enumerate(playlist.GetTracks(\"\")):\n",
      "                 artist = track.FormatTitle(\"%artist%\")\n",
      "                 title = track.FormatTitle(\"%title%\")\n",
      "                 self._songs[artist][title] = index  \n",
      "             return self._songs\n",
      "                \n",
      "    def play_song(self, song_id):\n",
      "        playlist = self.instance.Playlists.ActivePlaylist\n",
      "        playlist.DoDefaultAction(song_id)"
     ],
     "language": "python",
     "metadata": {
      "slideshow": {
       "slide_type": "slide"
      }
     },
     "outputs": [
      {
       "output_type": "stream",
       "stream": "stdout",
       "text": [
        "Writing jukebox/foobar.py\n"
       ]
      }
     ],
     "prompt_number": 24
    },
    {
     "cell_type": "heading",
     "level": 1,
     "metadata": {
      "slideshow": {
       "slide_type": "slide"
      }
     },
     "source": [
      "\u00cenc\u0103 un demo!"
     ]
    },
    {
     "cell_type": "code",
     "collapsed": false,
     "input": [
      "!mkdir jukebox\\\\tracks\\\\management\n",
      "!mkdir jukebox\\\\tracks\\\\management\\\\commands\n",
      "!echo \"\" > jukebox\\\\tracks\\\\management\\\\__init__.py\n",
      "!echo \"\" > jukebox\\\\tracks\\\\management\\\\commands\\\\__init__.py"
     ],
     "language": "python",
     "metadata": {
      "slideshow": {
       "slide_type": "slide"
      }
     },
     "outputs": [],
     "prompt_number": 25
    },
    {
     "cell_type": "code",
     "collapsed": false,
     "input": [
      "%%writefile jukebox/tracks/management/commands/add_songs.py\n",
      "from django.core.management.base import BaseCommand\n",
      "from jukebox.foobar import Foobar\n",
      "from jukebox.tracks.models import Artist, Track\n",
      "\n",
      "class Command(BaseCommand):\n",
      "    args = ''\n",
      "    help = 'Add the songs from the foobar player'\n",
      "    def handle(self, *args, **options):\n",
      "        for artist, songs in Foobar().songs.items():\n",
      "            artist, created = Artist.objects.get_or_create(name=artist)\n",
      "            for track_name, tid in songs.items():\n",
      "                Track.objects.create(\n",
      "                    track_name=track_name, tid=tid, artist=artist)"
     ],
     "language": "python",
     "metadata": {
      "slideshow": {
       "slide_type": "slide"
      }
     },
     "outputs": [
      {
       "output_type": "stream",
       "stream": "stdout",
       "text": [
        "Writing jukebox/tracks/management/commands/add_songs.py\n"
       ]
      }
     ],
     "prompt_number": 26
    },
    {
     "cell_type": "code",
     "collapsed": false,
     "input": [
      "%%writefile jukebox/tracks/models.py\n",
      "from django.db import models\n",
      "from django.contrib.auth.models import User\n",
      "    \n",
      "class Artist(models.Model):\n",
      "    name = models.CharField(max_length=256)\n",
      "    class Meta:\n",
      "       db_table = 'artists'\n",
      "\n",
      "class Track(models.Model):\n",
      "    track_name = models.CharField(max_length=256)\n",
      "    artist = models.ForeignKey(Artist)\n",
      "    tid = models.IntegerField()\n",
      "\n",
      "    class Meta:\n",
      "       db_table = 'tracks'"
     ],
     "language": "python",
     "metadata": {
      "slideshow": {
       "slide_type": "slide"
      }
     },
     "outputs": [
      {
       "output_type": "stream",
       "stream": "stdout",
       "text": [
        "Overwriting jukebox/tracks/models.py\n"
       ]
      }
     ],
     "prompt_number": 27
    },
    {
     "cell_type": "code",
     "collapsed": false,
     "input": [
      "%%writefile jukebox/tracks/serializers.py\n",
      "from rest_framework.serializers import ModelSerializer\n",
      "from .models import Track, Artist\n",
      "\n",
      "class TrackSerializer(ModelSerializer):\n",
      "    class Meta:\n",
      "        model = Track\n",
      "    def to_native(self, obj):\n",
      "        native = super().to_native(obj)\n",
      "        native['artist'] = obj.artist.name\n",
      "        return native\n",
      "\n",
      "class ArtistSerializer(ModelSerializer):\n",
      "    class Meta:\n",
      "        model = Artist\n",
      "    def to_native(self, obj):\n",
      "        native = super().to_native(obj)        \n",
      "        native['tracks'] = [\n",
      "            TrackSerializer(track).data\n",
      "            for track in obj.track_set.all()\n",
      "        ]\n",
      "        return native        "
     ],
     "language": "python",
     "metadata": {
      "slideshow": {
       "slide_type": "slide"
      }
     },
     "outputs": [
      {
       "output_type": "stream",
       "stream": "stdout",
       "text": [
        "Writing jukebox/tracks/serializers.py\n"
       ]
      }
     ],
     "prompt_number": 28
    },
    {
     "cell_type": "code",
     "collapsed": false,
     "input": [
      "%%writefile jukebox/tracks/views.py\n",
      "from rest_framework import generics\n",
      "from rest_framework.permissions import IsAuthenticatedOrReadOnly\n",
      "from rest_framework.response import Response\n",
      "from rest_framework import status\n",
      "\n",
      "from jukebox.foobar import Foobar\n",
      "\n",
      "from .serializers import TrackSerializer, ArtistSerializer\n",
      "from .models import Artist, Track\n",
      "\n",
      "class BaseJukebox:    \n",
      "    permission_classes = (IsAuthenticatedOrReadOnly, )\n",
      "\n",
      "class ArtistList(generics.ListAPIView, BaseJukebox):\n",
      "    queryset = Artist.objects.all()\n",
      "    serializer_class = ArtistSerializer\n",
      "\n",
      "class Playlist(generics.ListAPIView):\n",
      "    queryset = Track.objects.all()\n",
      "    serializer_class = TrackSerializer\n",
      "\n",
      "class Song(generics.RetrieveAPIView,\n",
      "           generics.UpdateAPIView):\n",
      "    model = Track\n",
      "    serializer_class = TrackSerializer\n",
      "\n",
      "    def put(self, request, *args, **kwargs):\n",
      "        track = self.get_object()\n",
      "        Foobar().play_song(track.tid)\n",
      "        return Response(\"Now playing song {}\".format(track.track_name),\n",
      "                        status=status.HTTP_200_OK)"
     ],
     "language": "python",
     "metadata": {
      "slideshow": {
       "slide_type": "slide"
      }
     },
     "outputs": [
      {
       "output_type": "stream",
       "stream": "stdout",
       "text": [
        "Overwriting jukebox/tracks/views.py\n"
       ]
      }
     ],
     "prompt_number": 29
    },
    {
     "cell_type": "code",
     "collapsed": false,
     "input": [
      "%%writefile jukebox/urls.py\n",
      "from django.conf.urls import patterns, url\n",
      "from jukebox.tracks.views import ArtistList, Playlist, Song\n",
      "from jukebox.auth.views import AuthCreate, AuthTokenList\n",
      "\n",
      "urlpatterns = patterns('',\n",
      "    url(r'^playlist/$', Playlist.as_view(), name='tracks'),\n",
      "    url(r'^artists/$', ArtistList.as_view(), name='artists'),\n",
      "    url(r'^auth/$', AuthCreate.as_view(), name='auth'),\n",
      "    url(r'^tokens/$', AuthTokenList.as_view(), name='tokens'),\n",
      "    url(r'^playlist/(?P<pk>\\d+)/$', Song.as_view()),    \n",
      ")"
     ],
     "language": "python",
     "metadata": {},
     "outputs": [
      {
       "output_type": "stream",
       "stream": "stdout",
       "text": [
        "Overwriting jukebox/urls.py\n"
       ]
      }
     ],
     "prompt_number": 30
    },
    {
     "cell_type": "heading",
     "level": 1,
     "metadata": {
      "slideshow": {
       "slide_type": "slide"
      }
     },
     "source": [
      "Acum putem ad\u0103uga ni\u0219te piese."
     ]
    },
    {
     "cell_type": "code",
     "collapsed": false,
     "input": [
      "!manage.py syncdb\n",
      "!manage.py add_songs"
     ],
     "language": "python",
     "metadata": {
      "slideshow": {
       "slide_type": "slide"
      }
     },
     "outputs": [
      {
       "output_type": "stream",
       "stream": "stdout",
       "text": [
        "Creating tables ...\n",
        "Creating table artists\n",
        "Creating table tracks\n",
        "Installing custom SQL ...\n",
        "Installing indexes ...\n",
        "Installed 0 object(s) from 0 fixture(s)\n"
       ]
      }
     ],
     "prompt_number": 31
    },
    {
     "cell_type": "heading",
     "level": 1,
     "metadata": {
      "slideshow": {
       "slide_type": "slide"
      }
     },
     "source": [
      "Testing, testing!"
     ]
    },
    {
     "cell_type": "code",
     "collapsed": false,
     "input": [
      "import subprocess\n",
      "import sys\n",
      "import time\n",
      "popen = subprocess.Popen([sys.executable, \"manage.py\", \"runserver\", \"127.0.0.1:8001\"])\n",
      "time.sleep(3) # Ca s\u0103 aib\u0103 timp serverul s\u0103 porneasc\u0103"
     ],
     "language": "python",
     "metadata": {
      "slideshow": {
       "slide_type": "slide"
      }
     },
     "outputs": [],
     "prompt_number": 39
    },
    {
     "cell_type": "code",
     "collapsed": false,
     "input": [
      "!curl 127.0.0.1:8001/playlist/"
     ],
     "language": "python",
     "metadata": {
      "slideshow": {
       "slide_type": "slide"
      }
     },
     "outputs": [
      {
       "output_type": "stream",
       "stream": "stdout",
       "text": [
        "[\n",
        "    {\n",
        "        \"id\": 1,\n",
        "        \"track_name\": \"All I ever wanted\",\n",
        "        \"artist\": \"Amick Byram/Linda Dee Shayne\",\n",
        "        \"tid\": 20\n",
        "    },\n",
        "    {\n",
        "        \"id\": 2,\n",
        "        \"track_name\": \"Day Ten: Memories\",\n",
        "        \"artist\": \"Ayreon\",\n",
        "        \"tid\": 9\n",
        "    },\n",
        "    {\n",
        "        \"id\": 3,\n",
        "        \"track_name\": \"Day Seventeen: Accident?\",\n",
        "        \"artist\": \"Ayreon\",\n",
        "        \"tid\": 16\n",
        "    },\n",
        "    {\n",
        "        \"id\": 4,\n",
        "        \"track_name\": \"Day Twelve: Trauma\",\n",
        "        \"artist\": \"Ayreon\",\n",
        "        \"tid\": 11\n",
        "    },\n",
        "    {\n",
        "        \"id\": 5,\n",
        "        \"track_name\": \"Day One: Vigil\",\n",
        "        \"artist\": \"Ayreon\",\n",
        "        \"tid\": 0\n",
        "    },\n",
        "    {\n",
        "        \"id\": 6,\n",
        "        \"track_name\": \"Day Eighteen: Realization\",\n",
        "        \"artist\": \"Ayreon\",\n",
        "        \"tid\": 17\n",
        "    },\n",
        "    {\n",
        "        \"id\": 7,\n",
        "        \"track_name\": \"Day Twenty: Confrontation\",\n",
        "        \"artist\": \"Ayreon\",\n",
        "        \"tid\": 19\n",
        "    },\n",
        "    {\n",
        "        \"id\": 8,\n",
        "        \"track_name\": \"Day Six: Childhood\",\n",
        "        \"artist\": \"Ayreon\",\n",
        "        \"tid\": 5\n",
        "    },\n",
        "    {\n",
        "        \"id\": 9,\n",
        "        \"track_name\": \"Day Fifteen: Betrayal\",\n",
        "        \"artist\": \"Ayreon\",\n",
        "        \"tid\": 14\n",
        "    },\n",
        "    {\n",
        "        \"id\": 10,\n",
        "        \"track_name\": \"Day Two: Isolation\",\n",
        "        \"artist\": \"Ayreon\",\n",
        "        \"tid\": 1\n",
        "    },\n",
        "    {\n",
        "        \"id\": 11,\n",
        "        \"track_name\": \"Day Sixteen: Loser\",\n",
        "        \"artist\": \"Ayreon\",\n",
        "        \"tid\": 15\n",
        "    },\n",
        "    {\n",
        "        \"id\": 12,\n",
        "        \"track_name\": \"Day Nine: Playground\",\n",
        "        \"artist\": \"Ayreon\",\n",
        "        \"tid\": 8\n",
        "    },\n",
        "    {\n",
        "        \"id\": 13,\n",
        "        \"track_name\": \"Day Nineteen: Disclosure\",\n",
        "        \"artist\": \"Ayreon\",\n",
        "        \"tid\": 18\n",
        "    },\n",
        "    {\n",
        "        \"id\": 14,\n",
        "        \"track_name\": \"Day Eleven: Love\",\n",
        "        \"artist\": \"Ayreon\",\n",
        "        \"tid\": 10\n",
        "    },\n",
        "    {\n",
        "        \"id\": 15,\n",
        "        \"track_name\": \"Day Three: Pain\",\n",
        "        \"artist\": \"Ayreon\",\n",
        "        \"tid\": 2\n",
        "    },\n",
        "    {\n",
        "        \"id\": 16,\n",
        "        \"track_name\": \"Day Four: Mystery\",\n",
        "        \"artist\": \"Ayreon\",\n",
        "        \"tid\": 3\n",
        "    },\n",
        "    {\n",
        "        \"id\": 17,\n",
        "        \"track_name\": \"Day Seven: Hope\",\n",
        "        \"artist\": \"Ayreon\",\n",
        "        \"tid\": 6\n",
        "    },\n",
        "    {\n",
        "        \"id\": 18,\n",
        "        \"track_name\": \"Day Eight: School\",\n",
        "        \"artist\": \"Ayreon\",\n",
        "        \"tid\": 7\n",
        "    },\n",
        "    {\n",
        "        \"id\": 19,\n",
        "        \"track_name\": \"Day Thirteen: Sign\",\n",
        "        \"artist\": \"Ayreon\",\n",
        "        \"tid\": 12\n",
        "    },\n",
        "    {\n",
        "        \"id\": 20,\n",
        "        \"track_name\": \"Day Five: Voices\",\n",
        "        \"artist\": \"Ayreon\",\n",
        "        \"tid\": 4\n",
        "    },\n",
        "    {\n",
        "        \"id\": 21,\n",
        "        \"track_name\": \"Day Fourteen: Pride\",\n",
        "        \"artist\": \"Ayreon\",\n",
        "        \"tid\": 13\n",
        "    },\n",
        "    {\n",
        "        \"id\": 22,\n",
        "        \"track_name\": \"And He Shall Smite The Wicked\",\n",
        "        \"artist\": \"Score\",\n",
        "        \"tid\": 50\n",
        "    },\n",
        "    {\n",
        "        \"id\": 23,\n",
        "        \"track_name\": \"Into The Sunlight\",\n",
        "        \"artist\": \"Score\",\n",
        "        \"tid\": 51\n",
        "    },\n",
        "    {\n",
        "        \"id\": 24,\n",
        "        \"track_name\": \"Sanctuary !\",\n",
        "        \"artist\": \"Score\",\n",
        "        \"tid\": 49\n",
        "    },\n",
        "    {\n",
        "        \"id\": 25,\n",
        "        \"track_name\": \"Humiliation\",\n",
        "        \"artist\": \"Score\",\n",
        "        \"tid\": 42\n",
        "    },\n",
        "    {\n",
        "        \"id\": 26,\n",
        "        \"track_name\": \"The Bell Tower\",\n",
        "        \"artist\": \"Score\",\n",
        "        \"tid\": 44\n",
        "    },\n",
        "    {\n",
        "        \"id\": 27,\n",
        "        \"track_name\": \"Paris Burning\",\n",
        "        \"artist\": \"Score\",\n",
        "        \"tid\": 47\n",
        "    },\n",
        "    {\n",
        "        \"id\": 28,\n",
        "        \"track_name\": \"Delivers us\",\n",
        "        \"artist\": \"Eden Riegel/Ofra Haza\",\n",
        "        \"tid\": 23\n",
        "    },\n",
        "    {\n",
        "        \"id\": 29,\n",
        "        \"track_name\": \"Heaven's Light /Hellfire\",\n",
        "        \"artist\": \"Tom Hulce\",\n",
        "        \"tid\": 45\n",
        "    },\n",
        "    {\n",
        "        \"id\": 30,\n",
        "        \"track_name\": \"The Plagues\",\n",
        "        \"artist\": \"Amick Byram/Ralph Fiennes\",\n",
        "        \"tid\": 33\n",
        "    },\n",
        "    {\n",
        "        \"id\": 31,\n",
        "        \"track_name\": \"When you believe (The Prince of Egypt)\",\n",
        "        \"artist\": \"Mariah Carey/Whitney Houston\",\n",
        "        \"tid\": 34\n",
        "    },\n",
        "    {\n",
        "        \"id\": 32,\n",
        "        \"track_name\": \"Red sea\",\n",
        "        \"artist\": \"Hans Zimmer\",\n",
        "        \"tid\": 30\n",
        "    },\n",
        "    {\n",
        "        \"id\": 33,\n",
        "        \"track_name\": \"Death of the first born\",\n",
        "        \"artist\": \"Hans Zimmer\",\n",
        "        \"tid\": 22\n",
        "    },\n",
        "    {\n",
        "        \"id\": 34,\n",
        "        \"track_name\": \"Rally\",\n",
        "        \"artist\": \"Hans Zimmer\",\n",
        "        \"tid\": 29\n",
        "    },\n",
        "    {\n",
        "        \"id\": 35,\n",
        "        \"track_name\": \"The burning bush\",\n",
        "        \"artist\": \"Hans Zimmer\",\n",
        "        \"tid\": 32\n",
        "    },\n",
        "    {\n",
        "        \"id\": 36,\n",
        "        \"track_name\": \"The Reprimand\",\n",
        "        \"artist\": \"Hans Zimmer\",\n",
        "        \"tid\": 35\n",
        "    },\n",
        "    {\n",
        "        \"id\": 37,\n",
        "        \"track_name\": \"Humanity\",\n",
        "        \"artist\": \"Hans Zimmer\",\n",
        "        \"tid\": 26\n",
        "    },\n",
        "    {\n",
        "        \"id\": 38,\n",
        "        \"track_name\": \"Following Tzipporah\",\n",
        "        \"artist\": \"Hans Zimmer\",\n",
        "        \"tid\": 24\n",
        "    },\n",
        "    {\n",
        "        \"id\": 39,\n",
        "        \"track_name\": \"The Court of Miracles\",\n",
        "        \"artist\": \"Paul Kandel/Choir\",\n",
        "        \"tid\": 48\n",
        "    },\n",
        "    {\n",
        "        \"id\": 40,\n",
        "        \"track_name\": \"The Bells of Notre Dame (Reprise)\",\n",
        "        \"artist\": \"Paul Kandel/Choir\",\n",
        "        \"tid\": 52\n",
        "    },\n",
        "    {\n",
        "        \"id\": 41,\n",
        "        \"track_name\": \"Topsy Turvy\",\n",
        "        \"artist\": \"Chorus/Paul Kandel\",\n",
        "        \"tid\": 41\n",
        "    },\n",
        "    {\n",
        "        \"id\": 42,\n",
        "        \"track_name\": \"The Bells of Notre Dame\",\n",
        "        \"artist\": \"David Ogden Stiers/Paul Kandel/Tony Jay\",\n",
        "        \"tid\": 39\n",
        "    },\n",
        "    {\n",
        "        \"id\": 43,\n",
        "        \"track_name\": \"Through heaven's eyes\",\n",
        "        \"artist\": \"K-Ci & JoJo\",\n",
        "        \"tid\": 37\n",
        "    },\n",
        "    {\n",
        "        \"id\": 44,\n",
        "        \"track_name\": \"I will get there\",\n",
        "        \"artist\": \"Boyz II Men\",\n",
        "        \"tid\": 27\n",
        "    },\n",
        "    {\n",
        "        \"id\": 45,\n",
        "        \"track_name\": \"River lullaby\",\n",
        "        \"artist\": \"Amy Grant\",\n",
        "        \"tid\": 31\n",
        "    },\n",
        "    {\n",
        "        \"id\": 46,\n",
        "        \"track_name\": \"Goodbye brother\",\n",
        "        \"artist\": \"Ofra Haza\",\n",
        "        \"tid\": 25\n",
        "    },\n",
        "    {\n",
        "        \"id\": 47,\n",
        "        \"track_name\": \"Cry\",\n",
        "        \"artist\": \"Ofra Haza\",\n",
        "        \"tid\": 21\n",
        "    },\n",
        "    {\n",
        "        \"id\": 48,\n",
        "        \"track_name\": \"Playing with the big boys\",\n",
        "        \"artist\": \"Martin Short/Steve Martin\",\n",
        "        \"tid\": 28\n",
        "    },\n",
        "    {\n",
        "        \"id\": 49,\n",
        "        \"track_name\": \"A Guy Like You\",\n",
        "        \"artist\": \"Jason Alexander/Charles Kimbrough/Mary Wickes/Mary Stout\",\n",
        "        \"tid\": 46\n",
        "    },\n",
        "    {\n",
        "        \"id\": 50,\n",
        "        \"track_name\": \"Out There\",\n",
        "        \"artist\": \"Tom Hulce/Tony Jay\",\n",
        "        \"tid\": 40\n",
        "    },\n",
        "    {\n",
        "        \"id\": 51,\n",
        "        \"track_name\": \"God Help The Outcasts\",\n",
        "        \"artist\": \"Heidi Mollenhauer/Choir\",\n",
        "        \"tid\": 43\n",
        "    },\n",
        "    {\n",
        "        \"id\": 52,\n",
        "        \"track_name\": \"Through Heaven`s eyes\",\n",
        "        \"artist\": \"Brian Stokes Mitchell\",\n",
        "        \"tid\": 36\n",
        "    },\n",
        "    {\n",
        "        \"id\": 53,\n",
        "        \"track_name\": \"Someday\",\n",
        "        \"artist\": \"Eternal\",\n",
        "        \"tid\": 53\n",
        "    },\n",
        "    {\n",
        "        \"id\": 54,\n",
        "        \"track_name\": \"God Help The Outcasts (Reprise)\",\n",
        "        \"artist\": \"Bette Midler\",\n",
        "        \"tid\": 54\n",
        "    },\n",
        "    {\n",
        "        \"id\": 55,\n",
        "        \"track_name\": \"When you believe\",\n",
        "        \"artist\": \"Michelle Pfeiffer/Sally Dworsky\",\n",
        "        \"tid\": 38\n",
        "    }\n",
        "]\n"
       ]
      },
      {
       "output_type": "stream",
       "stream": "stderr",
       "text": [
        "  % Total    % Received % Xferd  Average Speed   Time    Time     Time  Current\n",
        "                                 Dload  Upload   Total   Spent    Left  Speed\n",
        "\n",
        "  0     0    0     0    0     0      0      0 --:--:-- --:--:-- --:--:--     0\n",
        "100  6951    0  6951    0     0  12368      0 --:--:-- --:--:-- --:--:-- 12368\n",
        "100  6951    0  6951    0     0  12368      0 --:--:-- --:--:-- --:--:-- 12368\n"
       ]
      }
     ],
     "prompt_number": 40
    },
    {
     "cell_type": "code",
     "collapsed": false,
     "input": [
      "!curl 127.0.0.1:8001/playlist/42/"
     ],
     "language": "python",
     "metadata": {
      "slideshow": {
       "slide_type": "slide"
      }
     },
     "outputs": [
      {
       "output_type": "stream",
       "stream": "stdout",
       "text": [
        "{\n",
        "    \"id\": 42,\n",
        "    \"track_name\": \"The Bells of Notre Dame\",\n",
        "    \"artist\": \"David Ogden Stiers/Paul Kandel/Tony Jay\",\n",
        "    \"tid\": 39\n",
        "}\n"
       ]
      },
      {
       "output_type": "stream",
       "stream": "stderr",
       "text": [
        "  % Total    % Received % Xferd  Average Speed   Time    Time     Time  Current\n",
        "                                 Dload  Upload   Total   Spent    Left  Speed\n",
        "\n",
        "  0     0    0     0    0     0      0      0 --:--:-- --:--:-- --:--:--     0\n",
        "100   133    0   133    0     0   2111      0 --:--:-- --:--:-- --:--:--  2111\n"
       ]
      }
     ],
     "prompt_number": 41
    },
    {
     "cell_type": "code",
     "collapsed": false,
     "input": [
      "!curl 127.0.0.1:8001/playlist/42/ -X PUT"
     ],
     "language": "python",
     "metadata": {
      "slideshow": {
       "slide_type": "slide"
      }
     },
     "outputs": [
      {
       "output_type": "stream",
       "stream": "stdout",
       "text": [
        "\"Now playing song The Bells of Notre Dame\"\n"
       ]
      },
      {
       "output_type": "stream",
       "stream": "stderr",
       "text": [
        "  % Total    % Received % Xferd  Average Speed   Time    Time     Time  Current\n",
        "                                 Dload  Upload   Total   Spent    Left  Speed\n",
        "\n",
        "  0     0    0     0    0     0      0      0 --:--:-- --:--:-- --:--:--     0\n",
        "100    42    0    42    0     0    677      0 --:--:-- --:--:-- --:--:--   677\n"
       ]
      }
     ],
     "prompt_number": 42
    },
    {
     "cell_type": "heading",
     "level": 1,
     "metadata": {},
     "source": [
      "Mul\u021bumesc! Q & A!"
     ]
    },
    {
     "cell_type": "code",
     "collapsed": false,
     "input": [],
     "language": "python",
     "metadata": {},
     "outputs": [],
     "prompt_number": 35
    }
   ],
   "metadata": {}
  }
 ]
}