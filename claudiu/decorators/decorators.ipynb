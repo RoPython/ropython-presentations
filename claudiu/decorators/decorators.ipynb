{
 "metadata": {
  "name": "",
  "signature": "sha256:158c1ab4142053fe6502260b3e9c01250055f6ca80fe687c6fb72cee1f880118"
 },
 "nbformat": 3,
 "nbformat_minor": 0,
 "worksheets": [
  {
   "cells": [
    {
     "cell_type": "code",
     "collapsed": false,
     "input": [
      "def delete_user(request, user_id):\n",
      "    logging.info(\"Deleting user {}.\".format(user_id))\n",
      "    try:\n",
      "        user = User.objects.get(id=user_id)\n",
      "    except User.UserDoesNotExist:\n",
      "        logging.error(\"User does not exist\")\n",
      "        return False\n",
      "    \n",
      "    if user != request.user:\n",
      "        logging.error(\"Can't delete yourself.\")\n",
      "        return False\n",
      "    \n",
      "    # delete the user and user's settings\n",
      "    user.delete()\n",
      "    user.settings.delete()\n",
      "    \n",
      "    logging.info(\"User {} deleted.\".format(user_id))\n",
      "    return True"
     ],
     "language": "python",
     "metadata": {},
     "outputs": [],
     "prompt_number": 1
    },
    {
     "cell_type": "code",
     "collapsed": false,
     "input": [
      "# Probleme cu func\u021bia de mai sus:\n",
      "# * logica de logging este amestecat\u0103 cu logica \u0219tergerii unui user\n",
      "# * avem precondi\u021bii (ob\u021binerea unui user din baza de date, verificarea faptului c\u0103 nu este acela\u0219i user ca cel logat)\n",
      "#   ce pot fi mutate \u00een alt\u0103 func\u021bie\n"
     ],
     "language": "python",
     "metadata": {},
     "outputs": [],
     "prompt_number": 2
    },
    {
     "cell_type": "code",
     "collapsed": false,
     "input": [
      "def verify_user(func):\n",
      "    def wrapper(request, user_id):\n",
      "        # aplic\u0103 verific\u0103rile pe user_id\n",
      "        ...\n",
      "        return func(request, user_id)\n",
      "    return wrapper\n",
      "\n",
      "def login_required(func):\n",
      "    def wrapper(request, user_id):\n",
      "        # verific\u0103 dac\u0103 userul este autentificat\n",
      "        ...\n",
      "        return func(request, user)\n",
      "    return wrapper"
     ],
     "language": "python",
     "metadata": {},
     "outputs": [],
     "prompt_number": 4
    },
    {
     "cell_type": "code",
     "collapsed": false,
     "input": [
      "@login_required\n",
      "@verify_user\n",
      "def delete_user(request, user):\n",
      "    user.delete()\n",
      "    user.settings.delete()"
     ],
     "language": "python",
     "metadata": {},
     "outputs": [],
     "prompt_number": 6
    },
    {
     "cell_type": "code",
     "collapsed": false,
     "input": [
      "# Avantajele codului de mai sus:\n",
      "# * logica verific\u0103rii unui user se face \u00eenainte de func\u021bia noastr\u0103\n",
      "# * codul ce \u0219terge un user este mult mai u\u0219or de citit \u0219i de modificat\n",
      "# * codul este succint, clar \u0219i u\u0219or de \u00een\u021beles"
     ],
     "language": "python",
     "metadata": {},
     "outputs": [],
     "prompt_number": 5
    },
    {
     "cell_type": "code",
     "collapsed": false,
     "input": [
      "#\n",
      "# Ce sunt decoratorii?\n",
      "\n",
      "# Decoratorii reprezint\u0103 una din metodele \u00een limbajul Python \n",
      "# prin care logica unui program poate fi \u00eemp\u0103r\u021bit\u0103 \u00een buc\u0103\u021bi cu diferite interese,\n",
      "# permi\u021b\u00e2nd extinderea anumitor func\u021bionalit\u0103\u021bi ale unei func\u021bii sau clase\n",
      "# f\u0103r\u0103 modificarea codului acelor func\u021bii sau clase.\n",
      "# Este par\u021bial bazat pe \u0219ablonul Decorator, fiind mai degrab\u0103 similar\n",
      "# cu macro-urile din C. \n",
      "\n",
      "# Ca s\u0103 \u00een\u021belegem decoratorii, trebuie s\u0103 \u0219tim mai \u00eent\u00e2i\n",
      "# faptul c\u0103 func\u021biile \u00een Python sunt obiecte, la fel ca orice altceva din limbaj.\n",
      "# Func\u021biile pot fi \u00eentoarse din alte func\u021bii, pot fi pasate altor func\u021bii, pot\n",
      "# fi introduse \u00een liste etc."
     ],
     "language": "python",
     "metadata": {},
     "outputs": [],
     "prompt_number": 8
    },
    {
     "cell_type": "code",
     "collapsed": false,
     "input": [
      "def compute(a):\n",
      "    return (a ** a) + 42\n",
      "\n",
      "data = list(map(compute, [1, 2, 3, 4, 5]))\n",
      "print(data)"
     ],
     "language": "python",
     "metadata": {},
     "outputs": [
      {
       "output_type": "stream",
       "stream": "stdout",
       "text": [
        "[43, 46, 69, 298, 3167]\n"
       ]
      }
     ],
     "prompt_number": 10
    },
    {
     "cell_type": "code",
     "collapsed": false,
     "input": [
      "def compute_data(elements, compute_func):\n",
      "    return list(map(compute_func, elements))\n",
      "\n",
      "print(compute_data([1, 2, 3, 4, 5], compute))"
     ],
     "language": "python",
     "metadata": {},
     "outputs": [
      {
       "output_type": "stream",
       "stream": "stdout",
       "text": [
        "[43, 46, 69, 298, 3167]\n"
       ]
      }
     ],
     "prompt_number": 12
    },
    {
     "cell_type": "code",
     "collapsed": false,
     "input": [
      "# Un decorator este o func\u021bie care \u00eentoarce o func\u021bie, asta este cea mai simpl\u0103 defini\u021bie\n",
      "def decorator(func):\n",
      "    print(\"!!! I'm a decorator. !!!\")\n",
      "    return func\n",
      "\n",
      "def func(a):\n",
      "    return a + a\n",
      "func = decorator(func)\n",
      "func(2)"
     ],
     "language": "python",
     "metadata": {},
     "outputs": [
      {
       "output_type": "stream",
       "stream": "stdout",
       "text": [
        "!!! I'm a decorator. !!!\n"
       ]
      },
      {
       "metadata": {},
       "output_type": "pyout",
       "prompt_number": 15,
       "text": [
        "4"
       ]
      }
     ],
     "prompt_number": 15
    },
    {
     "cell_type": "code",
     "collapsed": false,
     "input": [
      "# Unul din feature-urile care face realizabil\u0103 implementarea\n",
      "# decoratorilor \u00een Python este abilitatea de a defini o func\u021bie \u00een corpul altei func\u021bii\n",
      "def decorator(func):\n",
      "    def wrapper(a):\n",
      "        print(\"I'm another decorator\")\n",
      "        return func(a)\n",
      "    return wrapper\n",
      "func = decorator(func)\n",
      "func(2)"
     ],
     "language": "python",
     "metadata": {},
     "outputs": [
      {
       "output_type": "stream",
       "stream": "stdout",
       "text": [
        "I'm another decorator\n"
       ]
      },
      {
       "metadata": {},
       "output_type": "pyout",
       "prompt_number": 16,
       "text": [
        "4"
       ]
      }
     ],
     "prompt_number": 16
    },
    {
     "cell_type": "code",
     "collapsed": false,
     "input": [
      "# Pentru c\u0103 forma aceasta de definire a unui decorator este ineficient\u0103\n",
      "# (codul de decora\u021bie se afl\u0103 la finalul func\u021biei, nu este vizibil \u0219i nu \u0219tii ce face\n",
      "# func\u021bia respectiv\u0103 dinainte s\u0103 o cite\u0219ti) s-a ad\u0103ugat \u00een Python 2.4\n",
      "# abilitatea de a decora o func\u021bie folosind simbolul @\n",
      "# Simbolul a fost preluat din Java, \u00eens\u0103 semnifica\u021biile sunt sunt mai puternice aici\n",
      "\n",
      "@decorator\n",
      "def func(a):\n",
      "    return a\n",
      "\n",
      "func(2)"
     ],
     "language": "python",
     "metadata": {},
     "outputs": [
      {
       "output_type": "stream",
       "stream": "stdout",
       "text": [
        "I'm another decorator\n"
       ]
      },
      {
       "metadata": {},
       "output_type": "pyout",
       "prompt_number": 17,
       "text": [
        "2"
       ]
      }
     ],
     "prompt_number": 17
    },
    {
     "cell_type": "code",
     "collapsed": false,
     "input": [
      "# @decorator este syntactic sugar pentru func = decorator(func), nimic mai mult"
     ],
     "language": "python",
     "metadata": {},
     "outputs": [],
     "prompt_number": 18
    },
    {
     "cell_type": "code",
     "collapsed": false,
     "input": [
      "# Componenta unui decorator\n",
      "def decorator(func): # func\u021bia ce este decorator\u0103\n",
      "    # lexical closure\n",
      "    a = 1\n",
      "    # func\u021bia ce va \u00eenlocui func\n",
      "    def wrapper(args):\n",
      "        return func\n",
      "    return wrapper\n",
      "\n",
      "@decorator # decoration line. Acesta nu este decoratorul!\n",
      "def func(a):\n",
      "    return a"
     ],
     "language": "python",
     "metadata": {},
     "outputs": [],
     "prompt_number": 19
    },
    {
     "cell_type": "code",
     "collapsed": false,
     "input": [
      "# Acum c\u0103 am stabilit ce este un decorator \u0219i din ce este format, este timpul s\u0103 trecem\n",
      "# la ceva mai complicat"
     ],
     "language": "python",
     "metadata": {},
     "outputs": [],
     "prompt_number": 20
    },
    {
     "cell_type": "code",
     "collapsed": false,
     "input": [
      "def memoize(func):\n",
      "    cache = {} # works due to lexical scoping\n",
      "    def wrapper(*args):\n",
      "        if args not in cache:\n",
      "            cache[args] = func(*args)\n",
      "        return cache[args]\n",
      "    return wrapper\n",
      "\n",
      "def fibbonaci(n):\n",
      "    if n == 0:\n",
      "        return 0\n",
      "    elif n == 1:\n",
      "        return 1\n",
      "    else:\n",
      "        return fibbonaci(n-1) + fibbonaci(n-2)\n",
      "    \n",
      "fibbonaci_simple = fibbonaci\n",
      "fibbonaci_decorated = memoize(fibbonaci)\n",
      "\n",
      "%timeit fibbonaci_simple(30)\n",
      "%timeit fibbonaci_decorated(30)"
     ],
     "language": "python",
     "metadata": {},
     "outputs": [
      {
       "output_type": "stream",
       "stream": "stdout",
       "text": [
        "1 loops, best of 3: 1.48 s per loop\n",
        "1 loops, best of 3: 1.9 \u00b5s per loop"
       ]
      },
      {
       "output_type": "stream",
       "stream": "stdout",
       "text": [
        "\n"
       ]
      }
     ],
     "prompt_number": 26
    },
    {
     "cell_type": "code",
     "collapsed": false,
     "input": [
      "# Decoratorul de mai sus func\u021bioneaz\u0103 datorit\u0103 a\u0219a numitului closure\n",
      "# Un closure reprezint\u0103 contextul lexical al unei func\u021bii.\n",
      "# Atunci c\u00e2nd o func\u021bie \u00een Python este definit\u0103, ea are acces la variabilele\n",
      "# definite \u00een acest context lexical.\n",
      "# Pentru o func\u021bie definit\u0103 \u00eentr-o func\u021bie, contextul ei lexical con\u021bine \u0219i\n",
      "# spa\u021biul de nume al func\u021biei \u00een care este definit\u0103."
     ],
     "language": "python",
     "metadata": {},
     "outputs": [],
     "prompt_number": 27
    },
    {
     "cell_type": "code",
     "collapsed": false,
     "input": [
      "# Pe parcursul acestor 15 minute doar am atins o mic\u0103 parte din puterea \n",
      "# unui decorator \u00een Python.\n",
      "# O descriere am\u0103nun\u021bit\u0103 a lor va ap\u0103rea \u00eentr-un viitor articol pe ropython.org"
     ],
     "language": "python",
     "metadata": {},
     "outputs": []
    }
   ],
   "metadata": {}
  }
 ]
}