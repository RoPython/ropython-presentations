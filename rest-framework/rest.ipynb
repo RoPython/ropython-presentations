{
 "metadata": {
  "celltoolbar": "Slideshow",
  "name": "",
  "signature": "sha256:0d4f76866eb38a3fe43f4c64d8d1abb3e25e89a20e567254d66d086f6324512c"
 },
 "nbformat": 3,
 "nbformat_minor": 0,
 "worksheets": [
  {
   "cells": [
    {
     "cell_type": "code",
     "collapsed": false,
     "input": [
      "!py --version"
     ],
     "language": "python",
     "metadata": {
      "slideshow": {
       "slide_type": "slide"
      }
     },
     "outputs": [
      {
       "output_type": "stream",
       "stream": "stdout",
       "text": [
        "Python 3.4.0\n"
       ]
      }
     ],
     "prompt_number": 1
    },
    {
     "cell_type": "code",
     "collapsed": false,
     "input": [
      "!pip3 install django"
     ],
     "language": "python",
     "metadata": {
      "slideshow": {
       "slide_type": "slide"
      }
     },
     "outputs": [
      {
       "output_type": "stream",
       "stream": "stdout",
       "text": [
        "Requirement already satisfied (use --upgrade to upgrade): django in c:\\python34\\lib\\site-packages\n",
        "Cleaning up...\n"
       ]
      }
     ],
     "prompt_number": 2
    },
    {
     "cell_type": "code",
     "collapsed": false,
     "input": [
      "!pip install djangorestframework"
     ],
     "language": "python",
     "metadata": {
      "slideshow": {
       "slide_type": "slide"
      }
     },
     "outputs": [
      {
       "output_type": "stream",
       "stream": "stdout",
       "text": [
        "Requirement already satisfied (use --upgrade to upgrade): djangorestframework in c:\\python34\\lib\\site-packages\n",
        "Cleaning up...\n"
       ]
      }
     ],
     "prompt_number": 3
    },
    {
     "cell_type": "code",
     "collapsed": false,
     "input": [
      "%pwd"
     ],
     "language": "python",
     "metadata": {
      "slideshow": {
       "slide_type": "slide"
      }
     },
     "outputs": [
      {
       "metadata": {},
       "output_type": "pyout",
       "prompt_number": 4,
       "text": [
        "'D:\\\\ropython'"
       ]
      }
     ],
     "prompt_number": 4
    },
    {
     "cell_type": "code",
     "collapsed": false,
     "input": [
      "!django-admin startproject jukebox"
     ],
     "language": "python",
     "metadata": {
      "slideshow": {
       "slide_type": "slide"
      }
     },
     "outputs": [],
     "prompt_number": 5
    },
    {
     "cell_type": "code",
     "collapsed": false,
     "input": [
      "%pwd"
     ],
     "language": "python",
     "metadata": {
      "slideshow": {
       "slide_type": "slide"
      }
     },
     "outputs": [
      {
       "metadata": {},
       "output_type": "pyout",
       "prompt_number": 6,
       "text": [
        "'D:\\\\ropython'"
       ]
      }
     ],
     "prompt_number": 6
    },
    {
     "cell_type": "code",
     "collapsed": false,
     "input": [
      "%cd jukebox"
     ],
     "language": "python",
     "metadata": {
      "slideshow": {
       "slide_type": "slide"
      }
     },
     "outputs": [
      {
       "output_type": "stream",
       "stream": "stdout",
       "text": [
        "D:\\ropython\\jukebox\n"
       ]
      }
     ],
     "prompt_number": 7
    },
    {
     "cell_type": "code",
     "collapsed": false,
     "input": [
      "!dir"
     ],
     "language": "python",
     "metadata": {
      "slideshow": {
       "slide_type": "slide"
      }
     },
     "outputs": [
      {
       "output_type": "stream",
       "stream": "stdout",
       "text": [
        " Volume in drive D is New Volume\n",
        " Volume Serial Number is 6EB1-7398\n",
        "\n",
        " Directory of D:\\ropython\\jukebox\n",
        "\n",
        "05/31/2014  06:41 AM    <DIR>          .\n",
        "05/31/2014  06:41 AM    <DIR>          ..\n",
        "05/31/2014  06:41 AM    <DIR>          jukebox\n",
        "05/31/2014  06:41 AM               250 manage.py\n",
        "               1 File(s)            250 bytes\n",
        "               3 Dir(s)  10,196,115,456 bytes free\n"
       ]
      }
     ],
     "prompt_number": 8
    },
    {
     "cell_type": "code",
     "collapsed": false,
     "input": [
      "!dir jukebox"
     ],
     "language": "python",
     "metadata": {
      "slideshow": {
       "slide_type": "slide"
      }
     },
     "outputs": [
      {
       "output_type": "stream",
       "stream": "stdout",
       "text": [
        " Volume in drive D is New Volume\n",
        " Volume Serial Number is 6EB1-7398\n",
        "\n",
        " Directory of D:\\ropython\\jukebox\\jukebox\n",
        "\n",
        "05/31/2014  06:41 AM    <DIR>          .\n",
        "05/31/2014  06:41 AM    <DIR>          ..\n",
        "05/31/2014  06:41 AM             1,975 settings.py\n",
        "05/31/2014  06:41 AM               298 urls.py\n",
        "05/31/2014  06:41 AM               389 wsgi.py\n",
        "05/31/2014  06:41 AM                 0 __init__.py\n",
        "               4 File(s)          2,662 bytes\n",
        "               2 Dir(s)  10,196,115,456 bytes free\n"
       ]
      }
     ],
     "prompt_number": 9
    },
    {
     "cell_type": "code",
     "collapsed": false,
     "input": [
      "!manage.py startapp tracks\n",
      "!manage.py startapp auth"
     ],
     "language": "python",
     "metadata": {
      "slideshow": {
       "slide_type": "slide"
      }
     },
     "outputs": [
      {
       "output_type": "stream",
       "stream": "stderr",
       "text": [
        "'manage.py' is not recognized as an internal or external command,\n",
        "operable program or batch file.\n"
       ]
      },
      {
       "output_type": "stream",
       "stream": "stderr",
       "text": [
        "'manage.py' is not recognized as an internal or external command,\n",
        "operable program or batch file.\n"
       ]
      }
     ],
     "prompt_number": 11
    },
    {
     "cell_type": "code",
     "collapsed": false,
     "input": [
      "!move auth jukebox\n",
      "!move tracks jukebox"
     ],
     "language": "python",
     "metadata": {
      "slideshow": {
       "slide_type": "slide"
      }
     },
     "outputs": [
      {
       "output_type": "stream",
       "stream": "stderr",
       "text": [
        "The system cannot find the file specified.\n"
       ]
      },
      {
       "output_type": "stream",
       "stream": "stderr",
       "text": [
        "The system cannot find the file specified.\n"
       ]
      }
     ],
     "prompt_number": 13
    },
    {
     "cell_type": "markdown",
     "metadata": {
      "slideshow": {
       "slide_type": "slide"
      }
     },
     "source": [
      "```python\n",
      "INSTALLED_APPS = (\n",
      "    'django.contrib.admin',\n",
      "    'django.contrib.auth',\n",
      "    'django.contrib.contenttypes',\n",
      "    'django.contrib.sessions',\n",
      "    'django.contrib.messages',\n",
      "    'django.contrib.staticfiles',\n",
      "\n",
      "    'jukebox.tracks',\n",
      "    'jukebox.auth',\n",
      ")\n",
      "\n",
      "DATABASES = {\n",
      "    'default': {\n",
      "        'ENGINE': 'django.db.backends.sqlite3',\n",
      "        'NAME': os.path.join(BASE_DIR, 'db.sqlite3'),\n",
      "    }\n",
      "}\n",
      "\n",
      "REST_FRAMEWORK = {\n",
      "    'DEFAULT_AUTHENTICATION_CLASSES': (\n",
      "        'jukebox.auth.auth.APITokenAuthentication',\n",
      "    ),\n",
      "    'DEFAULT_RENDERER_CLASSES': (\n",
      "        'jukebox.renderer.PrettyJSONRenderer',\n",
      "    ),\n",
      "}\n",
      "```"
     ]
    },
    {
     "cell_type": "code",
     "collapsed": false,
     "input": [
      "%%writefile jukebox/settings.py\n",
      "\n",
      "import os\n",
      "BASE_DIR = os.path.dirname(os.path.dirname(__file__))\n",
      "SECRET_KEY = 'qu*4)$2jz-9p3ra6_b%rgxe0(1p4=gqsfu($*cj-do*#vcg9n('\n",
      "DEBUG = True\n",
      "TEMPLATE_DEBUG = True\n",
      "ALLOWED_HOSTS = []\n",
      "INSTALLED_APPS = (\n",
      "    'django.contrib.admin',\n",
      "    'django.contrib.auth',\n",
      "    'django.contrib.contenttypes',\n",
      "    'django.contrib.sessions',\n",
      "    'django.contrib.messages',\n",
      "    'django.contrib.staticfiles',\n",
      "\n",
      "    'jukebox.tracks',\n",
      "    'jukebox.auth',\n",
      ")\n",
      "ROOT_URLCONF = 'jukebox.urls'\n",
      "WSGI_APPLICATION = 'jukebox.wsgi.application'\n",
      "DATABASES = {\n",
      "    'default': {\n",
      "        'ENGINE': 'django.db.backends.sqlite3',\n",
      "        'NAME': os.path.join(BASE_DIR, 'db.sqlite3'),\n",
      "    }\n",
      "}\n",
      "REST_FRAMEWORK = {\n",
      "    'DEFAULT_AUTHENTICATION_CLASSES': (\n",
      "        'jukebox.auth.auth.APITokenAuthentication',\n",
      "    ),\n",
      "    'DEFAULT_RENDERER_CLASSES': (\n",
      "        'jukebox.renderer.PrettyJSONRenderer',\n",
      "    ),\n",
      "}"
     ],
     "language": "python",
     "metadata": {
      "slideshow": {
       "slide_type": "slide"
      }
     },
     "outputs": [
      {
       "output_type": "stream",
       "stream": "stdout",
       "text": [
        "Writing jukebox/settings.py\n"
       ]
      },
      {
       "ename": "FileNotFoundError",
       "evalue": "[Errno 2] No such file or directory: 'jukebox/settings.py'",
       "output_type": "pyerr",
       "traceback": [
        "\u001b[1;31m---------------------------------------------------------------------------\u001b[0m\n\u001b[1;31mFileNotFoundError\u001b[0m                         Traceback (most recent call last)",
        "\u001b[1;32m<ipython-input-14-97cc491e2052>\u001b[0m in \u001b[0;36m<module>\u001b[1;34m()\u001b[0m\n\u001b[1;32m----> 1\u001b[1;33m \u001b[0mget_ipython\u001b[0m\u001b[1;33m(\u001b[0m\u001b[1;33m)\u001b[0m\u001b[1;33m.\u001b[0m\u001b[0mrun_cell_magic\u001b[0m\u001b[1;33m(\u001b[0m\u001b[1;34m'writefile'\u001b[0m\u001b[1;33m,\u001b[0m \u001b[1;34m'jukebox/settings.py'\u001b[0m\u001b[1;33m,\u001b[0m \u001b[1;34m\"\\nimport os\\nBASE_DIR = os.path.dirname(os.path.dirname(__file__))\\nSECRET_KEY = 'qu*4)$2jz-9p3ra6_b%rgxe0(1p4=gqsfu($*cj-do*#vcg9n('\\nDEBUG = True\\nTEMPLATE_DEBUG = True\\nALLOWED_HOSTS = []\\nINSTALLED_APPS = (\\n    'django.contrib.admin',\\n    'django.contrib.auth',\\n    'django.contrib.contenttypes',\\n    'django.contrib.sessions',\\n    'django.contrib.messages',\\n    'django.contrib.staticfiles',\\n\\n    'jukebox.tracks',\\n    'jukebox.auth',\\n)\\nROOT_URLCONF = 'jukebox.urls'\\nWSGI_APPLICATION = 'jukebox.wsgi.application'\\nDATABASES = {\\n    'default': {\\n        'ENGINE': 'django.db.backends.sqlite3',\\n        'NAME': os.path.join(BASE_DIR, 'db.sqlite3'),\\n    }\\n}\\nREST_FRAMEWORK = {\\n    'DEFAULT_AUTHENTICATION_CLASSES': (\\n        'jukebox.auth.auth.APITokenAuthentication',\\n    ),\\n    'DEFAULT_RENDERER_CLASSES': (\\n        'jukebox.renderer.PrettyJSONRenderer',\\n    ),\\n}\"\u001b[0m\u001b[1;33m)\u001b[0m\u001b[1;33m\u001b[0m\u001b[0m\n\u001b[0m",
        "\u001b[1;32mC:\\Python34\\lib\\site-packages\\IPython\\core\\interactiveshell.py\u001b[0m in \u001b[0;36mrun_cell_magic\u001b[1;34m(self, magic_name, line, cell)\u001b[0m\n\u001b[0;32m   2160\u001b[0m             \u001b[0mmagic_arg_s\u001b[0m \u001b[1;33m=\u001b[0m \u001b[0mself\u001b[0m\u001b[1;33m.\u001b[0m\u001b[0mvar_expand\u001b[0m\u001b[1;33m(\u001b[0m\u001b[0mline\u001b[0m\u001b[1;33m,\u001b[0m \u001b[0mstack_depth\u001b[0m\u001b[1;33m)\u001b[0m\u001b[1;33m\u001b[0m\u001b[0m\n\u001b[0;32m   2161\u001b[0m             \u001b[1;32mwith\u001b[0m \u001b[0mself\u001b[0m\u001b[1;33m.\u001b[0m\u001b[0mbuiltin_trap\u001b[0m\u001b[1;33m:\u001b[0m\u001b[1;33m\u001b[0m\u001b[0m\n\u001b[1;32m-> 2162\u001b[1;33m                 \u001b[0mresult\u001b[0m \u001b[1;33m=\u001b[0m \u001b[0mfn\u001b[0m\u001b[1;33m(\u001b[0m\u001b[0mmagic_arg_s\u001b[0m\u001b[1;33m,\u001b[0m \u001b[0mcell\u001b[0m\u001b[1;33m)\u001b[0m\u001b[1;33m\u001b[0m\u001b[0m\n\u001b[0m\u001b[0;32m   2163\u001b[0m             \u001b[1;32mreturn\u001b[0m \u001b[0mresult\u001b[0m\u001b[1;33m\u001b[0m\u001b[0m\n\u001b[0;32m   2164\u001b[0m \u001b[1;33m\u001b[0m\u001b[0m\n",
        "\u001b[1;32mC:\\Python34\\lib\\site-packages\\IPython\\core\\magics\\osm.py\u001b[0m in \u001b[0;36mwritefile\u001b[1;34m(self, line, cell)\u001b[0m\n",
        "\u001b[1;32mC:\\Python34\\lib\\site-packages\\IPython\\core\\magic.py\u001b[0m in \u001b[0;36m<lambda>\u001b[1;34m(f, *a, **k)\u001b[0m\n\u001b[0;32m    191\u001b[0m     \u001b[1;31m# but it's overkill for just that one bit of state.\u001b[0m\u001b[1;33m\u001b[0m\u001b[1;33m\u001b[0m\u001b[0m\n\u001b[0;32m    192\u001b[0m     \u001b[1;32mdef\u001b[0m \u001b[0mmagic_deco\u001b[0m\u001b[1;33m(\u001b[0m\u001b[0marg\u001b[0m\u001b[1;33m)\u001b[0m\u001b[1;33m:\u001b[0m\u001b[1;33m\u001b[0m\u001b[0m\n\u001b[1;32m--> 193\u001b[1;33m         \u001b[0mcall\u001b[0m \u001b[1;33m=\u001b[0m \u001b[1;32mlambda\u001b[0m \u001b[0mf\u001b[0m\u001b[1;33m,\u001b[0m \u001b[1;33m*\u001b[0m\u001b[0ma\u001b[0m\u001b[1;33m,\u001b[0m \u001b[1;33m**\u001b[0m\u001b[0mk\u001b[0m\u001b[1;33m:\u001b[0m \u001b[0mf\u001b[0m\u001b[1;33m(\u001b[0m\u001b[1;33m*\u001b[0m\u001b[0ma\u001b[0m\u001b[1;33m,\u001b[0m \u001b[1;33m**\u001b[0m\u001b[0mk\u001b[0m\u001b[1;33m)\u001b[0m\u001b[1;33m\u001b[0m\u001b[0m\n\u001b[0m\u001b[0;32m    194\u001b[0m \u001b[1;33m\u001b[0m\u001b[0m\n\u001b[0;32m    195\u001b[0m         \u001b[1;32mif\u001b[0m \u001b[0mcallable\u001b[0m\u001b[1;33m(\u001b[0m\u001b[0marg\u001b[0m\u001b[1;33m)\u001b[0m\u001b[1;33m:\u001b[0m\u001b[1;33m\u001b[0m\u001b[0m\n",
        "\u001b[1;32mC:\\Python34\\lib\\site-packages\\IPython\\core\\magics\\osm.py\u001b[0m in \u001b[0;36mwritefile\u001b[1;34m(self, line, cell)\u001b[0m\n\u001b[0;32m    738\u001b[0m \u001b[1;33m\u001b[0m\u001b[0m\n\u001b[0;32m    739\u001b[0m         \u001b[0mmode\u001b[0m \u001b[1;33m=\u001b[0m \u001b[1;34m'a'\u001b[0m \u001b[1;32mif\u001b[0m \u001b[0margs\u001b[0m\u001b[1;33m.\u001b[0m\u001b[0mappend\u001b[0m \u001b[1;32melse\u001b[0m \u001b[1;34m'w'\u001b[0m\u001b[1;33m\u001b[0m\u001b[0m\n\u001b[1;32m--> 740\u001b[1;33m         \u001b[1;32mwith\u001b[0m \u001b[0mio\u001b[0m\u001b[1;33m.\u001b[0m\u001b[0mopen\u001b[0m\u001b[1;33m(\u001b[0m\u001b[0mfilename\u001b[0m\u001b[1;33m,\u001b[0m \u001b[0mmode\u001b[0m\u001b[1;33m,\u001b[0m \u001b[0mencoding\u001b[0m\u001b[1;33m=\u001b[0m\u001b[1;34m'utf-8'\u001b[0m\u001b[1;33m)\u001b[0m \u001b[1;32mas\u001b[0m \u001b[0mf\u001b[0m\u001b[1;33m:\u001b[0m\u001b[1;33m\u001b[0m\u001b[0m\n\u001b[0m\u001b[0;32m    741\u001b[0m             \u001b[0mf\u001b[0m\u001b[1;33m.\u001b[0m\u001b[0mwrite\u001b[0m\u001b[1;33m(\u001b[0m\u001b[0mcell\u001b[0m\u001b[1;33m)\u001b[0m\u001b[1;33m\u001b[0m\u001b[0m\n",
        "\u001b[1;31mFileNotFoundError\u001b[0m: [Errno 2] No such file or directory: 'jukebox/settings.py'"
       ]
      }
     ],
     "prompt_number": 14
    },
    {
     "cell_type": "code",
     "collapsed": false,
     "input": [
      "%%writefile jukebox/auth/models.py\n",
      "import uuid\n",
      "import hmac\n",
      "from hashlib import sha1\n",
      "from django.db import models\n",
      "from django.contrib.auth.models import User\n",
      "\n",
      "class AuthToken(models.Model):\n",
      "    key = models.CharField(max_length=40, primary_key=True)\n",
      "    host = models.CharField(max_length=120)\n",
      "    created = models.DateTimeField(auto_now_add=True)\n",
      "    user = models.ForeignKey(User, related_name=\"user\", null=True)\n",
      "\n",
      "    def save(self, *args, **kwargs):\n",
      "        if not self.key:\n",
      "            self.key = AuthToken.generate_key()\n",
      "        return super(AuthToken, self).save(*args, **kwargs)\n",
      "\n",
      "    @staticmethod\n",
      "    def generate_key():        \n",
      "        unique = uuid.uuid4()\n",
      "        return hmac.new(unique.bytes, digestmod=sha1).hexdigest()\n",
      "\n",
      "    def user_info(self):\n",
      "        return {\n",
      "          \"user_id\": self.user.id,\n",
      "          \"username\": self.user.username,\n",
      "        }"
     ],
     "language": "python",
     "metadata": {
      "slideshow": {
       "slide_type": "slide"
      }
     },
     "outputs": []
    },
    {
     "cell_type": "code",
     "collapsed": false,
     "input": [
      "%%writefile jukebox/auth/serializer.py\n",
      "from rest_framework.serializers import ModelSerializer, Field\n",
      "from .models import AuthToken\n",
      "\n",
      "class TokenSerializer(ModelSerializer):\n",
      "    user = Field(source='user_info')    \n",
      "    class Meta:\n",
      "        model = AuthToken\n",
      "        lookup_field = \"key\"           "
     ],
     "language": "python",
     "metadata": {
      "slideshow": {
       "slide_type": "slide"
      }
     },
     "outputs": []
    },
    {
     "cell_type": "code",
     "collapsed": false,
     "input": [
      "%%writefile jukebox/auth/views.py\n",
      "from rest_framework.response import Response\n",
      "from rest_framework import status\n",
      "from rest_framework import generics\n",
      "from rest_framework.permissions import AllowAny\n",
      "from rest_framework.views import APIView\n",
      "from django.contrib.auth.models import User\n",
      "\n",
      "from .models import AuthToken\n",
      "from .serializer import TokenSerializer\n",
      "from ..permission import AuthenticatedOrDefault\n",
      "\n",
      "class AuthCreate(APIView):\n",
      "    permission_classes = (AllowAny, )\n",
      "\n",
      "    def post(self, request, *args, **kwargs):\n",
      "        if 'HTTP_X_REAL_IP' in request.META:\n",
      "            created_by_host = request.META['HTTP_X_REAL_IP']\n",
      "        else:\n",
      "            created_by_host = request.META['REMOTE_ADDR']\n",
      "        token_key = AuthToken.generate_key()\n",
      "        user, _ = User.objects.get_or_create(username=created_by_host)\n",
      "        token = AuthToken.objects.create(\n",
      "            host=created_by_host, user=user, key=token_key)\n",
      "        token.save()        \n",
      "        return Response(TokenSerializer(token).data,\n",
      "                        status=status.HTTP_201_CREATED)\n",
      "\n",
      "class AuthTokenList(generics.ListAPIView):\n",
      "    serializer_class = TokenSerializer\n",
      "    permission_classes = (AuthenticatedOrDefault, )\n",
      "    queryset = AuthToken.objects.all()\n",
      "\n",
      "    def get_queryset(self):\n",
      "        return AuthToken.objects.filter(user=self.request.user).order_by('-created'))"
     ],
     "language": "python",
     "metadata": {
      "slideshow": {
       "slide_type": "slide"
      }
     },
     "outputs": []
    },
    {
     "cell_type": "code",
     "collapsed": false,
     "input": [],
     "language": "python",
     "metadata": {},
     "outputs": []
    }
   ],
   "metadata": {}
  }
 ]
}